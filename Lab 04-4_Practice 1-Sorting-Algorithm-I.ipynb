{
 "cells": [
  {
   "cell_type": "markdown",
   "metadata": {},
   "source": [
    "# <center>CPE111 Programming with Data Structures</center>\n",
    "# <center>Lab 04-4 Practice 1 Sorting Algorithm I</center>\n",
    "---"
   ]
  },
  {
   "cell_type": "markdown",
   "metadata": {},
   "source": [
    "<b>Practice I)</b> Sorting Algorithm: Sorting with Best, Average, Worst cases\n",
    "\n",
    "<b>Mission:</b>  Choose a sorting algorithm and measure operation time for that sorting algorithm \n",
    "when n = 100, 500, …, 1000,5000,10000 in best, average and worst cases and then plot graph"
   ]
  },
  {
   "cell_type": "markdown",
   "metadata": {},
   "source": [
    "### Bubble Sort"
   ]
  },
  {
   "cell_type": "code",
   "execution_count": 1,
   "metadata": {},
   "outputs": [],
   "source": [
    "import matplotlib.pyplot as plt\n",
    "import time , random"
   ]
  },
  {
   "cell_type": "code",
   "execution_count": 2,
   "metadata": {},
   "outputs": [
    {
     "name": "stdout",
     "output_type": "stream",
     "text": [
      "BubbleSort\n",
      "-Average : [0.0010004043579101562, 0.029000043869018555, 0.1249997615814209, 3.25199818611145, 13.114964962005615]\n",
      "-Best cases : [0.0009999275207519531, 0.0149993896484375, 0.06200718879699707, 1.6302437782287598, 6.803488731384277]\n",
      "-Worst cases : [0.002000570297241211, 0.04199934005737305, 0.1779928207397461, 4.858842134475708, 19.390934705734253]\n",
      "\n",
      " Then we plot the graph..\n"
     ]
    },
    {
     "data": {
      "image/png": "[encoded data removed]",
      "text/plain": [
       "<Figure size 432x288 with 1 Axes>"
      ]
     },
     "metadata": {
      "needs_background": "light"
     },
     "output_type": "display_data"
    }
   ],
   "source": [
    "def bubbleSort( theSeq ):\n",
    "    n = len( theSeq ) - 1\n",
    "    # Perform n-1 bubble operations on the sequence\n",
    "    for i in range( n , 0 , -1 ) :\n",
    "        # Bubble the largest item to the end.\n",
    "        for j in range(i) :\n",
    "            if theSeq[j] > theSeq[j + 1] : # swap the j and j+1 items.\n",
    "                tmp = theSeq[j]\n",
    "                theSeq[j] = theSeq[j + 1]\n",
    "                theSeq[j + 1] = tmp\n",
    "    return theSeq\n",
    "\n",
    "\n",
    "N = [100 , 500 , 1000 , 5000 , 10000]\n",
    "Time1 = []\n",
    "Time2 = []\n",
    "Time3 = []\n",
    "\n",
    "for j in N:\n",
    "    random_number = []\n",
    "    \n",
    "    # *** ทำการหา Average *** \n",
    "    #โดย random เลขในแต่ละช่วงมา ซึ่งจะ random ทีละค่า ของ N มาใน for loop\n",
    "    for i in range( 0 , j):\n",
    "        #random ค่าช่วง 1 ถึง j โดยจะเก็บไว้ใน list ของ random_number\n",
    "        random_number.append(random.randint(1,j))\n",
    "    start1 = time.time()\n",
    "    #เรียกใช้ฟังก์ชัน bubbleSort\n",
    "    resu1 = bubbleSort(random_number)\n",
    "    end1 = time.time()\n",
    "    elapsed1 = end1 - start1\n",
    "    Time1.append(elapsed1)\n",
    "    \n",
    "\n",
    "    # *** ทำการหา Best cases *** \n",
    "    #จะหาโดย เอาผลที่ได้จากการ random [ได้ทำการเรียงค่ามาให้เรียบร้อยแล้ว] มาเข้า bubbleSort อีกรอบ\n",
    "    start2 = time.time()\n",
    "    #เรียกใช้ฟังก์ชัน bubbleSort\n",
    "    resu2 = bubbleSort(resu1)\n",
    "    end2 = time.time()\n",
    "    elapsed2 = end2 - start2\n",
    "    Time2.append(elapsed2)\n",
    "    \n",
    "    \n",
    "    # *** ทำการหา Worst cases *** \n",
    "    #จะหาโดย เอาผลที่ได้จากการ Best cases [ได้ทำการเรียงค่ามาให้เรียบร้อยแล้ว] \n",
    "    #มา reversed เพราะเราต้องการให้มีการเรียงใหม่ทุกตัวเพื่อให้เป็น Worst cases แล้วนำมาเข้า bubbleSort อีกรอบ\n",
    "    start3 = time.time()\n",
    "    #ทำการ reversed \n",
    "    REVERSE_resu2 = reversed(resu2)\n",
    "    #เรียกใช้ฟังก์ชัน bubbleSort\n",
    "    resu3 = bubbleSort(list(REVERSE_resu2))\n",
    "    end3 = time.time()\n",
    "    elapsed3 = end3 - start3\n",
    "    Time3.append(elapsed3)\n",
    "    \n",
    "\n",
    "# check ค่าที่ได้\n",
    "print('BubbleSort')   \n",
    "print('-Average :',Time1)\n",
    "print('-Best cases :',Time2)\n",
    "print('-Worst cases :',Time3)\n",
    "\n",
    "print('\\n Then we plot the graph..')\n",
    "\n",
    "#ทำการ plot กราฟ\n",
    "time_ave = Time1\n",
    "time_best = Time2\n",
    "time_worst = Time3\n",
    "\n",
    "#กำหนดชื่อกราฟ\n",
    "plt.title('BubbleSort with Best,Average,Worst cases')\n",
    "\n",
    "#กำหนดชื่อแกน x\n",
    "plt.xlabel(\"n\")\n",
    "\n",
    "#กำหนดชื่อแกน y\n",
    "plt.ylabel(\"Time\")\n",
    "\n",
    "#plot แต่ละเส้น กำหนดให้สี เส้น ในแบบดังนี้..\n",
    "plt.plot( N , time_ave, '-oy',\n",
    "          N , time_best,'-og',\n",
    "          N , time_worst,'-or')\n",
    "\n",
    "#ใส่คำอธิบายว่า แต่ละเส้นบ่งบอกอะไร\n",
    "#loc=2 คือตำแหน่งบนซ้าย  fancybox=0 คือทำให้กล่องข้อความเป็นเหลี่ยม ๆ  shadow=1 คือทำให้มีเงาตรงกล่องข้อความ\n",
    "plt.legend(['Average','Best','Worst'],loc=2,fancybox=0,shadow=1)\n",
    "\n",
    "#แสดงกราฟ\n",
    "plt.show()"
   ]
  },
  {
   "cell_type": "markdown",
   "metadata": {},
   "source": [
    "---"
   ]
  }
 ],
 "metadata": {
  "kernelspec": {
   "display_name": "Python 3",
   "language": "python",
   "name": "python3"
  },
  "language_info": {
   "codemirror_mode": {
    "name": "ipython",
    "version": 3
   },
   "file_extension": ".py",
   "mimetype": "text/x-python",
   "name": "python",
   "nbconvert_exporter": "python",
   "pygments_lexer": "ipython3",
   "version": "3.8.8"
  }
 },
 "nbformat": 4,
 "nbformat_minor": 2
}
